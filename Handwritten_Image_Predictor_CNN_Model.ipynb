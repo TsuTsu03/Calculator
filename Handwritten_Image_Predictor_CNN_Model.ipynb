{
  "nbformat": 4,
  "nbformat_minor": 0,
  "metadata": {
    "colab": {
      "provenance": [],
      "authorship_tag": "ABX9TyMieW8qWtD7YVDB4YRDIrTA",
      "include_colab_link": true
    },
    "kernelspec": {
      "name": "python3",
      "display_name": "Python 3"
    },
    "language_info": {
      "name": "python"
    }
  },
  "cells": [
    {
      "cell_type": "markdown",
      "metadata": {
        "id": "view-in-github",
        "colab_type": "text"
      },
      "source": [
        "<a href=\"https://colab.research.google.com/github/TsuTsu03/Calculator/blob/main/Handwritten_Image_Predictor_CNN_Model.ipynb\" target=\"_parent\"><img src=\"https://colab.research.google.com/assets/colab-badge.svg\" alt=\"Open In Colab\"/></a>"
      ]
    },
    {
      "cell_type": "markdown",
      "source": [
        "### **1. Importing necessary libraries for building the model**"
      ],
      "metadata": {
        "id": "e3IZTU0H6NI7"
      }
    },
    {
      "cell_type": "code",
      "execution_count": 23,
      "metadata": {
        "id": "I8-I9NU85UlE"
      },
      "outputs": [],
      "source": [
        "import numpy as np\n",
        "import matplotlib.pyplot as plt\n",
        "from tensorflow import keras\n",
        "from tensorflow.keras.datasets import mnist\n",
        "from tensorflow.keras.models import Sequential\n",
        "from tensorflow.keras.layers import Conv2D, MaxPooling2D, Flatten, Dense\n"
      ]
    },
    {
      "cell_type": "markdown",
      "source": [
        "### **1.1 Loading the Data set**"
      ],
      "metadata": {
        "id": "IAJnfkUL6Yhh"
      }
    },
    {
      "cell_type": "code",
      "source": [
        "(x_train, y_train), (x_test, y_test) = mnist.load_data()"
      ],
      "metadata": {
        "id": "91tJoHBU6pvo"
      },
      "execution_count": 24,
      "outputs": []
    },
    {
      "cell_type": "markdown",
      "source": [
        "### **2. Data Visualization**"
      ],
      "metadata": {
        "id": "Pncz0mqK7TXI"
      }
    },
    {
      "cell_type": "markdown",
      "source": [
        "Plotting/Displaying first 9 images"
      ],
      "metadata": {
        "id": "FSvhRGUq8zO5"
      }
    },
    {
      "cell_type": "code",
      "source": [
        "fig, axes = plt.subplots(3, 3, figsize=(8, 8))\n",
        "axes = axes.ravel()\n",
        "\n",
        "for i in range(9):\n",
        "    axes[i].imshow(x_train[i], cmap='gray')\n",
        "    axes[i].axis('off')\n",
        "    axes[i].set_title(f\"Label: {y_train[i]}\")\n",
        "\n",
        "plt.tight_layout()\n",
        "plt.show()"
      ],
      "metadata": {
        "colab": {
          "base_uri": "https://localhost:8080/",
          "height": 807
        },
        "id": "qVbZDV9H8ttg",
        "outputId": "264f0754-d7a9-4195-f6a9-81a757737f15"
      },
      "execution_count": 25,
      "outputs": [
        {
          "output_type": "display_data",
          "data": {
            "text/plain": [
              "<Figure size 800x800 with 9 Axes>"
            ],
            "image/png": "[encoded data removed]"
          },
          "metadata": {}
        }
      ]
    },
    {
      "cell_type": "markdown",
      "source": [
        "## **2.2 Normalizing Pixels of the images**"
      ],
      "metadata": {
        "id": "ch9h4TFh9WVA"
      }
    },
    {
      "cell_type": "code",
      "source": [
        "x_train = x_train / 255.0\n",
        "x_test = x_test / 255.0"
      ],
      "metadata": {
        "id": "lHqWBOpN9fYa"
      },
      "execution_count": 26,
      "outputs": []
    },
    {
      "cell_type": "markdown",
      "source": [
        "## **2.3 Reshaping the input data**"
      ],
      "metadata": {
        "id": "I0z8-3wV9u9_"
      }
    },
    {
      "cell_type": "code",
      "source": [
        "x_train = x_train.reshape((-1, 28, 28, 1))\n",
        "x_test = x_test.reshape((-1, 28, 28, 1))"
      ],
      "metadata": {
        "id": "IZUu7WC_91GA"
      },
      "execution_count": 27,
      "outputs": []
    },
    {
      "cell_type": "markdown",
      "source": [
        "### **3. Building the CNN Model**"
      ],
      "metadata": {
        "id": "kHOtgHQb-AUO"
      }
    },
    {
      "cell_type": "markdown",
      "source": [
        " **3.1 Defining the Model Architecture**"
      ],
      "metadata": {
        "id": "ODJwVZhZ-DMZ"
      }
    },
    {
      "cell_type": "code",
      "source": [
        "model = Sequential([\n",
        "    Conv2D(32, (3, 3), activation='relu', input_shape=(28, 28, 1)),\n",
        "    MaxPooling2D((2, 2)),\n",
        "    Conv2D(64, (3, 3), activation='relu'),\n",
        "    MaxPooling2D((2, 2)),\n",
        "    Flatten(),\n",
        "    Dense(64, activation='relu'),\n",
        "    Dense(10, activation='softmax')\n",
        "])\n",
        "model.summary()"
      ],
      "metadata": {
        "colab": {
          "base_uri": "https://localhost:8080/"
        },
        "id": "hbKVMuSO-PH_",
        "outputId": "294d55f3-bca2-499d-e047-69a9791a6972"
      },
      "execution_count": 28,
      "outputs": [
        {
          "output_type": "stream",
          "name": "stdout",
          "text": [
            "Model: \"sequential_3\"\n",
            "_________________________________________________________________\n",
            " Layer (type)                Output Shape              Param #   \n",
            "=================================================================\n",
            " conv2d_6 (Conv2D)           (None, 26, 26, 32)        320       \n",
            "                                                                 \n",
            " max_pooling2d_6 (MaxPooling  (None, 13, 13, 32)       0         \n",
            " 2D)                                                             \n",
            "                                                                 \n",
            " conv2d_7 (Conv2D)           (None, 11, 11, 64)        18496     \n",
            "                                                                 \n",
            " max_pooling2d_7 (MaxPooling  (None, 5, 5, 64)         0         \n",
            " 2D)                                                             \n",
            "                                                                 \n",
            " flatten_3 (Flatten)         (None, 1600)              0         \n",
            "                                                                 \n",
            " dense_6 (Dense)             (None, 64)                102464    \n",
            "                                                                 \n",
            " dense_7 (Dense)             (None, 10)                650       \n",
            "                                                                 \n",
            "=================================================================\n",
            "Total params: 121,930\n",
            "Trainable params: 121,930\n",
            "Non-trainable params: 0\n",
            "_________________________________________________________________\n"
          ]
        }
      ]
    },
    {
      "cell_type": "markdown",
      "source": [
        "**3.2 Compiling the model**"
      ],
      "metadata": {
        "id": "WKOnHqr0-SuF"
      }
    },
    {
      "cell_type": "code",
      "source": [
        "model.compile(optimizer='adam',\n",
        "              loss='sparse_categorical_crossentropy',\n",
        "              metrics=['accuracy'])"
      ],
      "metadata": {
        "id": "Hum9QDNT-WKe"
      },
      "execution_count": 29,
      "outputs": []
    },
    {
      "cell_type": "markdown",
      "source": [
        "**3.3 Training the model**"
      ],
      "metadata": {
        "id": "i10ga66g-ywW"
      }
    },
    {
      "cell_type": "code",
      "source": [
        "trained_model = model.fit(x_train, y_train, epochs=5, batch_size=32, validation_data=(x_test, y_test))"
      ],
      "metadata": {
        "colab": {
          "base_uri": "https://localhost:8080/"
        },
        "id": "nLxUNrJS-3AG",
        "outputId": "e88456fa-bcc3-4dd1-c5a3-48fc9ab7014d"
      },
      "execution_count": 30,
      "outputs": [
        {
          "output_type": "stream",
          "name": "stdout",
          "text": [
            "Epoch 1/5\n",
            "1875/1875 [==============================] - 66s 35ms/step - loss: 0.1464 - accuracy: 0.9559 - val_loss: 0.0509 - val_accuracy: 0.9844\n",
            "Epoch 2/5\n",
            "1875/1875 [==============================] - 64s 34ms/step - loss: 0.0485 - accuracy: 0.9849 - val_loss: 0.0394 - val_accuracy: 0.9874\n",
            "Epoch 3/5\n",
            "1875/1875 [==============================] - 65s 35ms/step - loss: 0.0340 - accuracy: 0.9893 - val_loss: 0.0287 - val_accuracy: 0.9906\n",
            "Epoch 4/5\n",
            "1875/1875 [==============================] - 63s 34ms/step - loss: 0.0252 - accuracy: 0.9919 - val_loss: 0.0276 - val_accuracy: 0.9905\n",
            "Epoch 5/5\n",
            "1875/1875 [==============================] - 63s 34ms/step - loss: 0.0182 - accuracy: 0.9942 - val_loss: 0.0336 - val_accuracy: 0.9894\n"
          ]
        }
      ]
    },
    {
      "cell_type": "markdown",
      "source": [
        "**3.4 Summary of training based on the val_loss, loss and accuracy**"
      ],
      "metadata": {
        "id": "uSuy5HchAe2f"
      }
    },
    {
      "cell_type": "code",
      "source": [
        "plt.plot(trained_model.history['loss'], label='Training Loss')\n",
        "plt.plot(trained_model.history['val_loss'], label='Validation Loss')\n",
        "plt.plot(trained_model.history['accuracy'], label='Training Accuracy')\n",
        "plt.plot(trained_model.history['val_accuracy'], label='Validation Accuracy')\n",
        "\n",
        "plt.title('Model Metrics')\n",
        "plt.xlabel('Epoch')\n",
        "plt.ylabel('Value')\n",
        "plt.legend()\n",
        "plt.grid(True)\n",
        "plt.show()"
      ],
      "metadata": {
        "colab": {
          "base_uri": "https://localhost:8080/",
          "height": 472
        },
        "id": "5MapJOUyAonl",
        "outputId": "a8263adc-0e2f-4301-c7e6-1d2f96933c11"
      },
      "execution_count": 33,
      "outputs": [
        {
          "output_type": "display_data",
          "data": {
            "text/plain": [
              "<Figure size 640x480 with 1 Axes>"
            ],
            "image/png": "[encoded data removed]"
          },
          "metadata": {}
        }
      ]
    },
    {
      "cell_type": "markdown",
      "source": [
        "**3.5 Evaluation of the Model**"
      ],
      "metadata": {
        "id": "qRJwY5TAE1Vi"
      }
    },
    {
      "cell_type": "code",
      "source": [
        "loss, accuracy = model.evaluate(x_test, y_test)\n",
        "print(\"Test Loss:\", loss)\n",
        "print(\"Test Accuracy:\", accuracy)"
      ],
      "metadata": {
        "colab": {
          "base_uri": "https://localhost:8080/"
        },
        "id": "puCluVHdE5iO",
        "outputId": "256f03a2-8bbb-4cb0-edf8-9fdb410b2a1b"
      },
      "execution_count": 34,
      "outputs": [
        {
          "output_type": "stream",
          "name": "stdout",
          "text": [
            "313/313 [==============================] - 3s 11ms/step - loss: 0.0336 - accuracy: 0.9894\n",
            "Test Loss: 0.03358253091573715\n",
            "Test Accuracy: 0.9894000291824341\n"
          ]
        }
      ]
    },
    {
      "cell_type": "markdown",
      "source": [
        "**3.6 Saving the Model**"
      ],
      "metadata": {
        "id": "jlQVvRtIFM6h"
      }
    },
    {
      "cell_type": "code",
      "source": [
        "model.save(\"flores_cnn_model.h5\")"
      ],
      "metadata": {
        "id": "2yOOWQJNFO8h"
      },
      "execution_count": 35,
      "outputs": []
    },
    {
      "cell_type": "markdown",
      "source": [
        "**3.7 Loading the Model**"
      ],
      "metadata": {
        "id": "GCaGV4RGFWDY"
      }
    },
    {
      "cell_type": "code",
      "source": [
        "from tensorflow.keras.models import load_model\n",
        "new_model = load_model('flores_cnn_model.h5')\n",
        "new_model.summary()"
      ],
      "metadata": {
        "colab": {
          "base_uri": "https://localhost:8080/"
        },
        "id": "eSnjbsMOFcZj",
        "outputId": "01a2f8fb-cd70-471a-ac30-dbb75e945ec8"
      },
      "execution_count": 36,
      "outputs": [
        {
          "output_type": "stream",
          "name": "stdout",
          "text": [
            "Model: \"sequential_3\"\n",
            "_________________________________________________________________\n",
            " Layer (type)                Output Shape              Param #   \n",
            "=================================================================\n",
            " conv2d_6 (Conv2D)           (None, 26, 26, 32)        320       \n",
            "                                                                 \n",
            " max_pooling2d_6 (MaxPooling  (None, 13, 13, 32)       0         \n",
            " 2D)                                                             \n",
            "                                                                 \n",
            " conv2d_7 (Conv2D)           (None, 11, 11, 64)        18496     \n",
            "                                                                 \n",
            " max_pooling2d_7 (MaxPooling  (None, 5, 5, 64)         0         \n",
            " 2D)                                                             \n",
            "                                                                 \n",
            " flatten_3 (Flatten)         (None, 1600)              0         \n",
            "                                                                 \n",
            " dense_6 (Dense)             (None, 64)                102464    \n",
            "                                                                 \n",
            " dense_7 (Dense)             (None, 10)                650       \n",
            "                                                                 \n",
            "=================================================================\n",
            "Total params: 121,930\n",
            "Trainable params: 121,930\n",
            "Non-trainable params: 0\n",
            "_________________________________________________________________\n"
          ]
        }
      ]
    },
    {
      "cell_type": "markdown",
      "source": [
        "### **4. Final Output - Testing the Model**"
      ],
      "metadata": {
        "id": "4lfVRjClF2dZ"
      }
    },
    {
      "cell_type": "code",
      "source": [
        "from tensorflow.keras.utils import save_img, load_img, img_to_array\n",
        "\n",
        "index = np.random.randint(0, len(x_test))\n",
        "save_img(\"saved_image.png\", x_test[index])\n",
        "loaded_image = load_img(\"saved_image.png\", color_mode='grayscale')\n",
        "image_array = img_to_array(loaded_image)\n",
        "reshaped_image = image_array.reshape((1, 28, 28, 1))\n",
        "\n",
        "predictions = model.predict(reshaped_image)\n",
        "predicted_number = np.argmax(predictions)\n",
        "\n",
        "print(\"Predicted Number:\", predicted_number)\n",
        "\n",
        "plt.imshow(loaded_image, cmap='gray')\n",
        "plt.axis('off')\n",
        "plt.show()"
      ],
      "metadata": {
        "colab": {
          "base_uri": "https://localhost:8080/",
          "height": 442
        },
        "id": "0YbdDX59F55S",
        "outputId": "e04076f4-04c8-49b4-9c75-cc8e0de70fd8"
      },
      "execution_count": 39,
      "outputs": [
        {
          "output_type": "stream",
          "name": "stdout",
          "text": [
            "1/1 [==============================] - 0s 24ms/step\n",
            "Predicted Number: 5\n"
          ]
        },
        {
          "output_type": "display_data",
          "data": {
            "text/plain": [
              "<Figure size 640x480 with 1 Axes>"
            ],
            "image/png": "[encoded data removed]"
          },
          "metadata": {}
        }
      ]
    }
  ]
}